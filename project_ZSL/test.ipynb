{
 "cells": [
  {
   "cell_type": "code",
   "execution_count": 2,
   "metadata": {},
   "outputs": [
    {
     "data": {
      "text/plain": [
       "array([ 6, 15])"
      ]
     },
     "execution_count": 2,
     "metadata": {},
     "output_type": "execute_result"
    }
   ],
   "source": [
    "import numpy as np\n",
    "A = np.array([[1,2,3], [4,5,6]])\n",
    "b = np.array([1, 1, 1])\n",
    "np.dot(A, b)"
   ]
  },
  {
   "cell_type": "code",
   "execution_count": 32,
   "metadata": {},
   "outputs": [
    {
     "name": "stdout",
     "output_type": "stream",
     "text": [
      "[[[  0   0   0]\n",
      "  [ 96  85  71]\n",
      "  [ 96  85  71]]\n",
      "\n",
      " [[100  89  75]\n",
      "  [ 79  68  54]\n",
      "  [ 89  78  64]]]\n"
     ]
    }
   ],
   "source": [
    "import cv2\n",
    "img = cv2.imread('/Users/zhaosonglin/Desktop/IMG_1006.jpeg')\n",
    "# print(img)\n",
    "map_y = np.array([[-9, 1, 4], \n",
    "                  [2, 3, 7]], dtype=np.float32)  \n",
    "map_x = np.array([[3, 6, 5], \n",
    "                  [7, 10, 8]], dtype=np.float32)  \n",
    "mapped_img = cv2.remap(img, map_x, map_y, cv2.INTER_LINEAR)\n",
    "print(mapped_img)"
   ]
  },
  {
   "cell_type": "code",
   "execution_count": 13,
   "metadata": {},
   "outputs": [
    {
     "name": "stdout",
     "output_type": "stream",
     "text": [
      "[[300.         300.         300.         300.         300.\n",
      "  300.         300.         300.        ]\n",
      " [306.29146673 306.29146673 306.29146673 306.29146673 306.29146673\n",
      "  306.29146673 306.29146673 306.29146673]\n",
      " [312.63293784 312.63293784 312.63293784 312.63293784 312.63293784\n",
      "  312.63293784 312.63293784 312.63293784]\n",
      " [319.07602022 319.07602022 319.07602022 319.07602022 319.07602022\n",
      "  319.07602022 319.07602022 319.07602022]\n",
      " [325.67563604 325.67563604 325.67563604 325.67563604 325.67563604\n",
      "  325.67563604 325.67563604 325.67563604]]\n"
     ]
    }
   ],
   "source": [
    "import math\n",
    "P = 5\n",
    "Q = 8\n",
    "u = np.arange(P)[:, None]\n",
    "v = np.arange(Q)\n",
    "# dst = np.zeros(P, Q)\n",
    "result = 100 * np.tan((2*math.pi / 100) * (u-300)) + 300 + v*0\n",
    "print(result)"
   ]
  },
  {
   "cell_type": "code",
   "execution_count": 40,
   "metadata": {},
   "outputs": [
    {
     "name": "stdout",
     "output_type": "stream",
     "text": [
      "(3024, 4032, 3)\n",
      "-0.3241486313344718\n",
      "2016.0\n",
      "1512.0\n"
     ]
    }
   ],
   "source": [
    "img = cv2.imread('/Users/zhaosonglin/Desktop/IMG_1006.jpeg')\n",
    "h, w = img.shape[:2]\n",
    "print(img.shape)\n",
    "cx = w/2\n",
    "cy = h/2\n",
    "\n",
    "u = cx\n",
    "v = cy\n",
    "f = 6000\n",
    "print(math.atan((0-cx)/f))\n",
    "mappedX = f * np.tan((2*math.pi / f) * (u-cx)) + cx + v*0\n",
    "mappedY = (v-cy) * (f**2 + ((f * np.tan((2*math.pi / f) * (u-cx)) + cx)-cx)**2)**0.5 / f + cy\n",
    "# mappedX = mappedX.astype(np.float32)\n",
    "# mappedY = mappedY.astype(np.float32)\n",
    "# print(mappedX.shape)\n",
    "print(mappedX)\n",
    "print(mappedY)"
   ]
  },
  {
   "cell_type": "code",
   "execution_count": null,
   "metadata": {},
   "outputs": [],
   "source": [
    "\n",
    "dst_pts = np.float32([ kp1[m.queryIdx].pt for m in good_match ]).reshape(-1,1,2)\n",
    "src_pts = np.float32([ kp2[m.trainIdx].pt for m in good_match ]).reshape(-1,1,2)\n",
    "M, mask = cv2.findHomography(src_pts, dst_pts, cv2.RANSAC,5.0)"
   ]
  }
 ],
 "metadata": {
  "kernelspec": {
   "display_name": "Python 3.8.5 ('base')",
   "language": "python",
   "name": "python3"
  },
  "language_info": {
   "codemirror_mode": {
    "name": "ipython",
    "version": 3
   },
   "file_extension": ".py",
   "mimetype": "text/x-python",
   "name": "python",
   "nbconvert_exporter": "python",
   "pygments_lexer": "ipython3",
   "version": "3.8.5"
  },
  "orig_nbformat": 4,
  "vscode": {
   "interpreter": {
    "hash": "40d3a090f54c6569ab1632332b64b2c03c39dcf918b08424e98f38b5ae0af88f"
   }
  }
 },
 "nbformat": 4,
 "nbformat_minor": 2
}
