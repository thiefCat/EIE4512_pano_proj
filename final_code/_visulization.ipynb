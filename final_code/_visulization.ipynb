{
 "cells": [
  {
   "cell_type": "code",
   "execution_count": 46,
   "metadata": {},
   "outputs": [],
   "source": [
    "from frame_selector import Frame_selector\n",
    "from get_f import *\n",
    "import velocity\n",
    "import numpy as np \n",
    "import cv2 as cv2\n",
    "import matplotlib.pyplot as plt"
   ]
  },
  {
   "cell_type": "markdown",
   "metadata": {},
   "source": [
    "# deblurring process"
   ]
  },
  {
   "cell_type": "code",
   "execution_count": 47,
   "metadata": {},
   "outputs": [
    {
     "name": "stderr",
     "output_type": "stream",
     "text": [
      "<ipython-input-47-67a924ad9883>:21: ComplexWarning: Casting complex values to real discards the imaginary part\n",
      "  cv2.imwrite('frequency_mask_s300.png', np.uint8(F_img))\n"
     ]
    },
    {
     "data": {
      "text/plain": [
       "True"
      ]
     },
     "execution_count": 47,
     "metadata": {},
     "output_type": "execute_result"
    },
    {
     "data": {
      "image/png": "[encoded data removed]",
      "text/plain": [
       "<Figure size 720x720 with 2 Axes>"
      ]
     },
     "metadata": {
      "needs_background": "light"
     },
     "output_type": "display_data"
    }
   ],
   "source": [
    "img = cv2.imread('out\\\\filter_30_255.png')\n",
    "scale = 300\n",
    "img = np.zeros((16*scale,9*scale))\n",
    "h, w = img.shape[:2]\n",
    "img[h//2,w//4:w//2] = 1\n",
    "\n",
    "F_img = np.fft.fft2(img)\n",
    "F_img = np.fft.fftshift(F_img)\n",
    "\n",
    "plt.figure(figsize=(10,10))\n",
    "plt.subplot(221)\n",
    "plt.title('spatial mask')\n",
    "plt.imshow(img, cmap='gray')\n",
    "\n",
    "plt.subplot(222)\n",
    "plt.title('frequency mask')\n",
    "plt.imshow((np.abs(F_img)), cmap='gray')\n",
    "\n",
    "\n",
    "cv2.imwrite('spatial_mask_s30.png', np.uint8(img))\n",
    "cv2.imwrite('frequency_mask_s300.png', np.uint8(F_img))"
   ]
  },
  {
   "cell_type": "code",
   "execution_count": null,
   "metadata": {},
   "outputs": [],
   "source": []
  },
  {
   "cell_type": "markdown",
   "metadata": {},
   "source": [
    "# analyze motion"
   ]
  },
  {
   "cell_type": "code",
   "execution_count": null,
   "metadata": {},
   "outputs": [],
   "source": [
    "IDs = ['7.18_1','7.18_2','7.18_3','7.18_4','7.18_5','7.18_6','7.18_7','7.18_8','7.18_9',\\\n",
    "        '7.19_1','7.19_2','7.19_3','7.19_4','7.19_5','7.19_6',\\\n",
    "        '7.21_1','7.21_2','7.21_3','7.21_4','7.21_5','7.21_6','7.21_7']\n",
    "\n",
    "for video_id in IDs:\n",
    "\n",
    "    print(video_id)\n",
    "\n",
    "    FF = Frame_selector()\n",
    "    FF.set_path('videos\\\\'+video_id+'.MOV') \n",
    "    FF.load_vedio(proxy_compress=5)\n",
    "    FF.set_threshold(sift_thres=0.5, interest_thres=10)\n",
    "    # FF.search_frames()\n",
    "    FF.add_all_frames_to_selected_frames()\n",
    "    print(FF.selected_frames)\n",
    "\n",
    "    f = get_f(26, 3/5, 1080, 3000, 2160)\n",
    "\n",
    "\n",
    "    '''analyze motion'''\n",
    "    \n",
    "    Vel = []\n",
    "    neigb_frames = FF.out_neighb_frames()\n",
    "    # neigb_frames = neigb_frames[:10] # testing set\n",
    "\n",
    "    for i, (imgl, imgr) in enumerate(neigb_frames):\n",
    "        print('calc v of '+str(i))\n",
    "        v = velocity.get_velocity(imgl, imgr, f, ratio=0.6, t=2/FF.fps)\n",
    "        Vel.append(v)\n",
    "\n",
    "\n",
    "    plt.subplots()\n",
    "    plt.plot(np.arange(len(Vel)), Vel)\n",
    "    plt.xlabel('Frame')\n",
    "    plt.ylabel('Speed (pixel/s)')\n",
    "\n",
    "    plt.savefig(video_id+'_Vel.png')\n",
    "    \n",
    "plt.show()"
   ]
  },
  {
   "cell_type": "markdown",
   "metadata": {},
   "source": [
    "# analyze frame selection"
   ]
  },
  {
   "cell_type": "code",
   "execution_count": null,
   "metadata": {},
   "outputs": [],
   "source": [
    "IDs = ['7.18_1','7.18_2','7.18_3','7.18_4','7.18_5','7.18_6','7.18_7','7.18_8','7.18_9',\\\n",
    "        '7.19_1','7.19_2','7.19_3','7.19_4','7.19_5','7.19_6',\\\n",
    "        '7.21_1','7.21_2','7.21_3','7.21_4','7.21_5','7.21_6','7.21_7']\n",
    "\n",
    "for video_id in IDs:\n",
    "\n",
    "    print(video_id)\n",
    "\n",
    "    FF = Frame_selector()\n",
    "    FF.set_path('videos\\\\'+video_id+'.MOV') \n",
    "    FF.load_vedio(proxy_compress=5)\n",
    "    FF.set_threshold(sift_thres=0.5, interest_thres=10)\n",
    "    # FF.search_frames()\n",
    "    FF.add_all_frames_to_selected_frames()\n",
    "    print(FF.selected_frames)\n",
    "\n",
    "    f = get_f(26, 3/5, 1080, 3000, 2160)   \n",
    "\n",
    "\n",
    "    '''analyze frame selection'''\n",
    "    \n",
    "    num_good = []\n",
    "    num_1 = []\n",
    "    num_2 = []\n",
    "\n",
    "    i = 1\n",
    "    frame1 = FF.frames_proxy[i]\n",
    "    for j in range(2, FF.L-2):\n",
    "        frame2 = FF.frames_proxy[j]\n",
    "        _, good_indexes, kps1, kps2 = FF.out_sift_matching(frame1, frame2, 0.5)\n",
    "        num_good.append(len(good_indexes))\n",
    "        num_1.append(len(kps1))\n",
    "        num_2.append(len(kps2))\n",
    "\n",
    "    fig1, ax1 = plt.subplots()\n",
    "    ax1.plot(np.arange(len(num_good)), num_good, label='pair of img1 and img2')\n",
    "    ax1.legend()\n",
    "    plt.xlabel('distance in index')\n",
    "    plt.ylabel('number of good match pairs')\n",
    "    plt.savefig(video_id+'_num_of_good.png')\n",
    "\n",
    "    fig2, ax2 = plt.subplots()\n",
    "    ax2.plot(np.arange(len(num_1)), num_1, label='img1')\n",
    "    ax2.legend()\n",
    "    ax2.plot(np.arange(len(num_2)), num_2, label='img2')\n",
    "    ax2.legend()\n",
    "    plt.xlabel('diatance in index')\n",
    "    plt.ylabel('number of interest point')\n",
    "    plt.savefig(video_id+'_num_of_1_2.png')\n",
    "    \n",
    "\n",
    "plt.show()"
   ]
  }
 ],
 "metadata": {
  "kernelspec": {
   "display_name": "Python 3.9.1 64-bit",
   "language": "python",
   "name": "python3"
  },
  "language_info": {
   "codemirror_mode": {
    "name": "ipython",
    "version": 3
   },
   "file_extension": ".py",
   "mimetype": "text/x-python",
   "name": "python",
   "nbconvert_exporter": "python",
   "pygments_lexer": "ipython3",
   "version": "3.9.1"
  },
  "orig_nbformat": 4,
  "vscode": {
   "interpreter": {
    "hash": "a944e1632555cb1f92321e512c1b0f290877eee56b46940fa8546313437168f8"
   }
  }
 },
 "nbformat": 4,
 "nbformat_minor": 2
}
